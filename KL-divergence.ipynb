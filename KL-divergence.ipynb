{
 "cells": [
  {
   "cell_type": "code",
   "execution_count": 1,
   "metadata": {},
   "outputs": [],
   "source": [
    "import pandas as pd\n",
    "\n",
    "attribute_list = [\"age\", \n",
    "                  \"workclass\", \n",
    "                  \"education\", \n",
    "                  \"years_of_education\", \n",
    "                  \"marital_status\", \n",
    "                  \"occupation\", \n",
    "                  \"relationship\", \n",
    "                  \"race\", \n",
    "                  \"sex\", \n",
    "                  \"hours_per_week\", \n",
    "                  \"native_country\", \n",
    "                  \"salary_bracket\"]\n",
    "\n",
    "measure_list = [\n",
    "    \"age\",\n",
    "    \"years_of_education\", \n",
    "    \"capital_gain\", \n",
    "    \"capital_loss\", \n",
    "    \"hours_per_week\"\n",
    "]\n",
    "\n",
    "sql_dict = {}\n",
    "ref_dict = {}\n",
    "query_dict = {}\n",
    "\n",
    "def exec_sql_query(query, param=None):\n",
    "    \n",
    "    from sqlalchemy import create_engine\n",
    "    import urllib\n",
    "    params = urllib.parse.quote_plus(\"DRIVER={SQL Server Native Client 11.0};SERVER=LAPTOP-C3LFVOFI;DATABASE=student_life;UID=student_sense;PWD=abhinav123\")\n",
    "    engine = create_engine(\"mssql+pyodbc:///?odbc_connect=%s\" % params)\n",
    "    connection = engine.raw_connection()\n",
    "    \n",
    "    try:\n",
    "        cursor = connection.cursor()\n",
    "        if(param):\n",
    "            cursor.execute(query, param)\n",
    "        else : \n",
    "            cursor.execute(query)\n",
    "            \n",
    "        results = cursor.fetchall()\n",
    "        columns = [column[0] for column in cursor.description]\n",
    "        df = pd.DataFrame.from_records(results, columns=columns)\n",
    "        cursor.close()\n",
    "        connection.commit()\n",
    "    finally:\n",
    "        connection.close()\n",
    "    \n",
    "    del engine\n",
    "    return df\n"
   ]
  },
  {
   "cell_type": "code",
   "execution_count": 2,
   "metadata": {},
   "outputs": [],
   "source": [
    "for attribute in attribute_list:\n",
    "    for measure in measure_list:\n",
    "        ref_sql = \"select \"+ attribute + \", avg(\" + measure +\") as avg, max(\"+ measure + \") as max, min(\"+ measure + \") as min, sum(\"+ measure + \") as sum, count(\"+ measure + \") as count from adult where marital_status not in  ('Married-AF-spouse' , 'Married-spouse-absent', 'Married-civ-spouse')  group by \"+ attribute\n",
    "        query_sql = \"select \"+ attribute + \", avg(\" + measure +\") as avg, max(\"+ measure + \") as max, min(\"+ measure + \") as min, sum(\"+ measure + \") as sum, count(\"+ measure + \") as count from adult where marital_status  in  ('Married-AF-spouse' , 'Married-spouse-absent', 'Married-civ-spouse')  group by \"+ attribute\n",
    "#         sql_dict[(attribute, measure)] = sql\n",
    "        ref_dict[(attribute, measure)] = exec_sql_query(ref_sql)\n",
    "        query_dict[(attribute, measure)] = exec_sql_query(query_sql)\n",
    "        \n",
    "        \n",
    "\n"
   ]
  },
  {
   "cell_type": "code",
   "execution_count": 3,
   "metadata": {},
   "outputs": [
    {
     "name": "stderr",
     "output_type": "stream",
     "text": [
      "C:\\Users\\Abhinav Shaw\\Anaconda3\\lib\\site-packages\\scipy\\stats\\_distn_infrastructure.py:2508: RuntimeWarning: invalid value encountered in true_divide\n",
      "  pk = 1.0*pk / np.sum(pk, axis=0)\n",
      "C:\\Users\\Abhinav Shaw\\Anaconda3\\lib\\site-packages\\scipy\\stats\\_distn_infrastructure.py:2515: RuntimeWarning: invalid value encountered in true_divide\n",
      "  qk = 1.0*qk / np.sum(qk, axis=0)\n"
     ]
    },
    {
     "name": "stdout",
     "output_type": "stream",
     "text": [
      "{('age', 'age', 'avg'): 0.0, ('age', 'age', 'max'): 0.0, ('age', 'age', 'min'): 0.0, ('age', 'age', 'sum'): 0.41525284711643645, ('age', 'age', 'count'): 0.63695420483714493, ('age', 'years_of_education', 'avg'): 0.0074841032784975815, ('age', 'years_of_education', 'max'): 0.0072285366452549639, ('age', 'years_of_education', 'min'): 0.15536395528767394, ('age', 'years_of_education', 'sum'): 0.61633942671324182, ('age', 'years_of_education', 'count'): 0.63695420483714493, ('age', 'capital_gain', 'avg'): inf, ('age', 'capital_gain', 'max'): inf, ('age', 'capital_gain', 'min'): inf, ('age', 'capital_gain', 'sum'): inf, ('age', 'capital_gain', 'count'): 0.63695420483714493, ('age', 'capital_loss', 'avg'): inf, ('age', 'capital_loss', 'max'): inf, ('age', 'capital_loss', 'min'): inf, ('age', 'capital_loss', 'sum'): inf, ('age', 'capital_loss', 'count'): 0.63695420483714493, ('age', 'hours_per_week', 'avg'): 0.040013006808685046, ('age', 'hours_per_week', 'max'): 0.04966849541727833, ('age', 'hours_per_week', 'min'): 0.61358974176864922, ('age', 'hours_per_week', 'sum'): 0.49959338896540534, ('age', 'hours_per_week', 'count'): 0.63695420483714493, ('workclass', 'age', 'avg'): 0.01886199639117167, ('workclass', 'age', 'max'): 0.0027813837371652057, ('workclass', 'age', 'min'): 0.015709739595898282, ('workclass', 'age', 'sum'): 0.04807096561884909, ('workclass', 'age', 'count'): 0.054071501162145388, ('workclass', 'years_of_education', 'avg'): 0.0028445615533060561, ('workclass', 'years_of_education', 'max'): 0.0034301752840544368, ('workclass', 'years_of_education', 'min'): 0.15090339300419389, ('workclass', 'years_of_education', 'sum'): 0.053177236305042383, ('workclass', 'years_of_education', 'count'): 0.054071501162145388, ('workclass', 'capital_gain', 'avg'): 0.21339069942828159, ('workclass', 'capital_gain', 'max'): 0.19277189808729142, ('workclass', 'capital_gain', 'min'): inf, ('workclass', 'capital_gain', 'sum'): 0.067685668245377334, ('workclass', 'capital_gain', 'count'): 0.054071501162145388, ('workclass', 'capital_loss', 'avg'): 0.04340854588471299, ('workclass', 'capital_loss', 'max'): 0.019751157586366953, ('workclass', 'capital_loss', 'min'): inf, ('workclass', 'capital_loss', 'sum'): 0.086556817824307755, ('workclass', 'capital_loss', 'count'): 0.054071501162145388, ('workclass', 'hours_per_week', 'avg'): 0.0060836011647974692, ('workclass', 'hours_per_week', 'max'): 0.0082276026563557619, ('workclass', 'hours_per_week', 'min'): 0.71109623933759236, ('workclass', 'hours_per_week', 'sum'): 0.056280864655286388, ('workclass', 'hours_per_week', 'count'): 0.054071501162145388, ('education', 'age', 'avg'): 0.0066859573797910833, ('education', 'age', 'max'): 0.0039191878105504681, ('education', 'age', 'min'): 0.003363438246283908, ('education', 'age', 'sum'): 0.03292061276470469, ('education', 'age', 'count'): 0.049781822897674896, ('education', 'years_of_education', 'avg'): 0.0, ('education', 'years_of_education', 'max'): 0.0, ('education', 'years_of_education', 'min'): 0.0, ('education', 'years_of_education', 'sum'): 0.054438074779529284, ('education', 'years_of_education', 'count'): 0.049781822897674896, ('education', 'capital_gain', 'avg'): 0.15186897204274677, ('education', 'capital_gain', 'max'): 0.40502442880534817, ('education', 'capital_gain', 'min'): inf, ('education', 'capital_gain', 'sum'): 0.076295838152579162, ('education', 'capital_gain', 'count'): 0.049781822897674896, ('education', 'capital_loss', 'avg'): 0.12290921424138487, ('education', 'capital_loss', 'max'): 0.083034591656559603, ('education', 'capital_loss', 'min'): inf, ('education', 'capital_loss', 'sum'): 0.081300185765784655, ('education', 'capital_loss', 'count'): 0.049781822897674896, ('education', 'hours_per_week', 'avg'): 0.003361576118954347, ('education', 'hours_per_week', 'max'): 0.0053292340053463713, ('education', 'hours_per_week', 'min'): 0.33408674690299101, ('education', 'hours_per_week', 'sum'): 0.035343936069269451, ('education', 'hours_per_week', 'count'): 0.049781822897674896, ('years_of_education', 'age', 'avg'): 0.0066859573797910851, ('years_of_education', 'age', 'max'): 0.0039191878105504672, ('years_of_education', 'age', 'min'): 0.0033634382462839115, ('years_of_education', 'age', 'sum'): 0.03292061276470469, ('years_of_education', 'age', 'count'): 0.049781822897674896, ('years_of_education', 'years_of_education', 'avg'): 0.0, ('years_of_education', 'years_of_education', 'max'): 0.0, ('years_of_education', 'years_of_education', 'min'): 0.0, ('years_of_education', 'years_of_education', 'sum'): 0.054438074779529291, ('years_of_education', 'years_of_education', 'count'): 0.049781822897674896, ('years_of_education', 'capital_gain', 'avg'): 0.15186897204274677, ('years_of_education', 'capital_gain', 'max'): 0.40502442880534822, ('years_of_education', 'capital_gain', 'min'): inf, ('years_of_education', 'capital_gain', 'sum'): 0.076295838152579148, ('years_of_education', 'capital_gain', 'count'): 0.049781822897674896, ('years_of_education', 'capital_loss', 'avg'): 0.1229092142413849, ('years_of_education', 'capital_loss', 'max'): 0.083034591656559603, ('years_of_education', 'capital_loss', 'min'): inf, ('years_of_education', 'capital_loss', 'sum'): 0.081300185765784655, ('years_of_education', 'capital_loss', 'count'): 0.049781822897674896, ('years_of_education', 'hours_per_week', 'avg'): 0.0033615761189543475, ('years_of_education', 'hours_per_week', 'max'): 0.0053292340053463713, ('years_of_education', 'hours_per_week', 'min'): 0.33408674690299101, ('years_of_education', 'hours_per_week', 'sum'): 0.035343936069269444, ('years_of_education', 'hours_per_week', 'count'): 0.049781822897674896, ('marital_status', 'age', 'avg'): 0.0, ('marital_status', 'age', 'max'): 0.0, ('marital_status', 'age', 'min'): 0.0, ('marital_status', 'age', 'sum'): 0.0, ('marital_status', 'age', 'count'): 0.0, ('marital_status', 'years_of_education', 'avg'): 0.0, ('marital_status', 'years_of_education', 'max'): 0.0, ('marital_status', 'years_of_education', 'min'): 0.0, ('marital_status', 'years_of_education', 'sum'): 0.0, ('marital_status', 'years_of_education', 'count'): 0.0, ('marital_status', 'capital_gain', 'avg'): 0.0, ('marital_status', 'capital_gain', 'max'): 0.0, ('marital_status', 'capital_gain', 'min'): 0.0, ('marital_status', 'capital_gain', 'sum'): 0.0, ('marital_status', 'capital_gain', 'count'): 0.0, ('marital_status', 'capital_loss', 'avg'): 0.0, ('marital_status', 'capital_loss', 'max'): 0.0, ('marital_status', 'capital_loss', 'min'): 0.0, ('marital_status', 'capital_loss', 'sum'): 0.0, ('marital_status', 'capital_loss', 'count'): 0.0, ('marital_status', 'hours_per_week', 'avg'): 0.0, ('marital_status', 'hours_per_week', 'max'): 0.0, ('marital_status', 'hours_per_week', 'min'): 0.0, ('marital_status', 'hours_per_week', 'sum'): 0.0, ('marital_status', 'hours_per_week', 'count'): 0.0, ('occupation', 'age', 'avg'): 0.0045336045842586624, ('occupation', 'age', 'max'): 0.0031578104532871158, ('occupation', 'age', 'min'): 0.0034053690351958377, ('occupation', 'age', 'sum'): 0.17259456177657445, ('occupation', 'age', 'count'): 0.18197020620867388, ('occupation', 'years_of_education', 'avg'): 0.00077201553266759322, ('occupation', 'years_of_education', 'max'): 0.0013833801061603937, ('occupation', 'years_of_education', 'min'): 0.061050983741416251, ('occupation', 'years_of_education', 'sum'): 0.17440113188298376, ('occupation', 'years_of_education', 'count'): 0.18197020620867388, ('occupation', 'capital_gain', 'avg'): 0.093020331206033258, ('occupation', 'capital_gain', 'max'): 0.3539705906611289, ('occupation', 'capital_gain', 'min'): inf, ('occupation', 'capital_gain', 'sum'): 0.11641841070135683, ('occupation', 'capital_gain', 'count'): 0.18197020620867388, ('occupation', 'capital_loss', 'avg'): 0.41749211186811641, ('occupation', 'capital_loss', 'max'): 0.075148972457763905, ('occupation', 'capital_loss', 'min'): inf, ('occupation', 'capital_loss', 'sum'): 0.16841613486992518, ('occupation', 'capital_loss', 'count'): 0.18197020620867388, ('occupation', 'hours_per_week', 'avg'): 0.0016564897442403166, ('occupation', 'hours_per_week', 'max'): 0.0059103709934905432, ('occupation', 'hours_per_week', 'min'): 0.60393984111188193, ('occupation', 'hours_per_week', 'sum'): 0.17095400936939464, ('occupation', 'hours_per_week', 'count'): 0.18197020620867388, ('relationship', 'age', 'avg'): 0.0016522338345051589, ('relationship', 'age', 'max'): 0.017019405317579023, ('relationship', 'age', 'min'): 0.0010493149571851167, ('relationship', 'age', 'sum'): 0.13809962523275818, ('relationship', 'age', 'count'): 0.14493320204956389, ('relationship', 'years_of_education', 'avg'): 0.0010959329382555123, ('relationship', 'years_of_education', 'max'): 0.0035059503413827214, ('relationship', 'years_of_education', 'min'): 0.049856756174223443, ('relationship', 'years_of_education', 'sum'): 0.13842918555255537, ('relationship', 'years_of_education', 'count'): 0.14493320204956389, ('relationship', 'capital_gain', 'avg'): 0.13274489734848699, ('relationship', 'capital_gain', 'max'): 0.50940656109889826, ('relationship', 'capital_gain', 'min'): inf, ('relationship', 'capital_gain', 'sum'): 0.20692251063892764, ('relationship', 'capital_gain', 'count'): 0.14493320204956389, ('relationship', 'capital_loss', 'avg'): 0.068600669013098275, ('relationship', 'capital_loss', 'max'): 0.00090295872370466448, ('relationship', 'capital_loss', 'min'): inf, ('relationship', 'capital_loss', 'sum'): 0.12753058674266837, ('relationship', 'capital_loss', 'count'): 0.14493320204956389, ('relationship', 'hours_per_week', 'avg'): 0.0014037918105332114, ('relationship', 'hours_per_week', 'max'): 0.0096041368191335935, ('relationship', 'hours_per_week', 'min'): 0.17120348607051367, ('relationship', 'hours_per_week', 'sum'): 0.14559486828034032, ('relationship', 'hours_per_week', 'count'): 0.14493320204956389, ('race', 'age', 'avg'): 0.0011523778805844201, ('race', 'age', 'max'): 0.0012716029441645071, ('race', 'age', 'min'): 0.00097025672459952542, ('race', 'age', 'sum'): 0.042481584612053647, ('race', 'age', 'count'): 0.03614357154623897, ('race', 'years_of_education', 'avg'): 0.0012329688516569577, ('race', 'years_of_education', 'max'): 0.00032463262377687221, ('race', 'years_of_education', 'min'): 0.0, ('race', 'years_of_education', 'sum'): 0.035672192219789151, ('race', 'years_of_education', 'count'): 0.03614357154623897, ('race', 'capital_gain', 'avg'): 0.31851981169047533, ('race', 'capital_gain', 'max'): 0.2356303400708499, ('race', 'capital_gain', 'min'): inf, ('race', 'capital_gain', 'sum'): 0.058630231001174468, ('race', 'capital_gain', 'count'): 0.03614357154623897, ('race', 'capital_loss', 'avg'): 0.017860412914010807, ('race', 'capital_loss', 'max'): 0.061351227434332328, ('race', 'capital_loss', 'min'): inf, ('race', 'capital_loss', 'sum'): 0.046953761850379784, ('race', 'capital_loss', 'count'): 0.03614357154623897, ('race', 'hours_per_week', 'avg'): 0.00043244999331095487, ('race', 'hours_per_week', 'max'): 0.010951710293211996, ('race', 'hours_per_week', 'min'): 0.32450769219625547, ('race', 'hours_per_week', 'sum'): 0.038913833221318958, ('race', 'hours_per_week', 'count'): 0.03614357154623897, ('sex', 'age', 'avg'): 0.0057940084285867319, ('sex', 'age', 'max'): 0.0, ('sex', 'age', 'min'): 0.0, ('sex', 'age', 'sum'): 0.56434677323561544, ('sex', 'age', 'count'): 0.46290341083787145, ('sex', 'years_of_education', 'avg'): 0.0, ('sex', 'years_of_education', 'max'): 0.0, ('sex', 'years_of_education', 'min'): 0.0, ('sex', 'years_of_education', 'sum'): 0.47179258690739867, ('sex', 'years_of_education', 'count'): 0.46290341083787145, ('sex', 'capital_gain', 'avg'): 0.0092197367035182082, ('sex', 'capital_gain', 'max'): 0.0, ('sex', 'capital_gain', 'min'): inf, ('sex', 'capital_gain', 'sum'): 0.30846647682536776, ('sex', 'capital_gain', 'count'): 0.46290341083787145, ('sex', 'capital_loss', 'avg'): 0.00079547319355820212, ('sex', 'capital_loss', 'max'): 0.0047976326351829024, ('sex', 'capital_loss', 'min'): inf, ('sex', 'capital_loss', 'sum'): 0.40485497187967062, ('sex', 'capital_loss', 'count'): 0.46290341083787145, ('sex', 'hours_per_week', 'avg'): 0.0018119674874914928, ('sex', 'hours_per_week', 'max'): 0.0, ('sex', 'hours_per_week', 'min'): 0.0, ('sex', 'hours_per_week', 'sum'): 0.48841601070733748, ('sex', 'hours_per_week', 'count'): 0.46290341083787145, ('hours_per_week', 'age', 'avg'): 0.028731632986042595, ('hours_per_week', 'age', 'max'): 0.020275409905182687, ('hours_per_week', 'age', 'min'): 0.058664358103019801, ('hours_per_week', 'age', 'sum'): 0.097392481326945932, ('hours_per_week', 'age', 'count'): 0.14216908467425793, ('hours_per_week', 'years_of_education', 'avg'): 0.016810570630006516, ('hours_per_week', 'years_of_education', 'max'): 0.010647903943914338, ('hours_per_week', 'years_of_education', 'min'): 0.21310584765540261, ('hours_per_week', 'years_of_education', 'sum'): 0.1333169697677585, ('hours_per_week', 'years_of_education', 'count'): 0.14216908467425793, ('hours_per_week', 'capital_gain', 'avg'): inf, ('hours_per_week', 'capital_gain', 'max'): inf, ('hours_per_week', 'capital_gain', 'min'): inf, ('hours_per_week', 'capital_gain', 'sum'): inf, ('hours_per_week', 'capital_gain', 'count'): 0.14216908467425793, ('hours_per_week', 'capital_loss', 'avg'): inf, ('hours_per_week', 'capital_loss', 'max'): inf, ('hours_per_week', 'capital_loss', 'min'): inf, ('hours_per_week', 'capital_loss', 'sum'): inf, ('hours_per_week', 'capital_loss', 'count'): 0.14216908467425793, ('hours_per_week', 'hours_per_week', 'avg'): 0.0, ('hours_per_week', 'hours_per_week', 'max'): 0.0, ('hours_per_week', 'hours_per_week', 'min'): 0.0, ('hours_per_week', 'hours_per_week', 'sum'): 0.11952309632961437, ('hours_per_week', 'hours_per_week', 'count'): 0.14216908467425793, ('native_country', 'age', 'avg'): 0.007930395957908459, ('native_country', 'age', 'max'): 0.022879243302857157, ('native_country', 'age', 'min'): 0.0095458212746317855, ('native_country', 'age', 'sum'): 0.0096716671619317129, ('native_country', 'age', 'count'): 0.0087461523320553798, ('native_country', 'years_of_education', 'avg'): 0.010302477823881256, ('native_country', 'years_of_education', 'max'): 0.0080665656449839494, ('native_country', 'years_of_education', 'min'): 0.25868508726372968, ('native_country', 'years_of_education', 'sum'): 0.0082218845572821567, ('native_country', 'years_of_education', 'count'): 0.0087461523320553798, ('native_country', 'capital_gain', 'avg'): inf, ('native_country', 'capital_gain', 'max'): inf, ('native_country', 'capital_gain', 'min'): inf, ('native_country', 'capital_gain', 'sum'): inf, ('native_country', 'capital_gain', 'count'): 0.0087461523320553798, ('native_country', 'capital_loss', 'avg'): inf, ('native_country', 'capital_loss', 'max'): inf, ('native_country', 'capital_loss', 'min'): inf, ('native_country', 'capital_loss', 'sum'): inf, ('native_country', 'capital_loss', 'count'): 0.0087461523320553798, ('native_country', 'hours_per_week', 'avg'): 0.0056174056499988132, ('native_country', 'hours_per_week', 'max'): 0.028400268140913652, ('native_country', 'hours_per_week', 'min'): 0.24557292786251556, ('native_country', 'hours_per_week', 'sum'): 0.0088997001167317787, ('native_country', 'hours_per_week', 'count'): 0.0087461523320553798, ('salary_bracket', 'age', 'avg'): 0.0058916249327114548, ('salary_bracket', 'age', 'max'): 0.0, ('salary_bracket', 'age', 'min'): 0.0, ('salary_bracket', 'age', 'sum'): 0.33327794984677717, ('salary_bracket', 'age', 'count'): 0.35162403067779668, ('salary_bracket', 'years_of_education', 'avg'): 0.0009306226817849296, ('salary_bracket', 'years_of_education', 'max'): 0.0, ('salary_bracket', 'years_of_education', 'min'): 0.01641675862934236, ('salary_bracket', 'years_of_education', 'sum'): 0.39907875965706591, ('salary_bracket', 'years_of_education', 'count'): 0.35162403067779668, ('salary_bracket', 'capital_gain', 'avg'): 0.016710329203880405, ('salary_bracket', 'capital_gain', 'max'): 0.0036013765322530852, ('salary_bracket', 'capital_gain', 'min'): inf, ('salary_bracket', 'capital_gain', 'sum'): 0.11136784574935268, ('salary_bracket', 'capital_gain', 'count'): 0.35162403067779668, ('salary_bracket', 'capital_loss', 'avg'): 0.00022352011303774719, ('salary_bracket', 'capital_loss', 'max'): 0.0016801764841089632, ('salary_bracket', 'capital_loss', 'min'): inf, ('salary_bracket', 'capital_loss', 'sum'): 0.59519604115353331, ('salary_bracket', 'capital_loss', 'count'): 0.35162403067779668, ('salary_bracket', 'hours_per_week', 'avg'): 0.0019262789248685463, ('salary_bracket', 'hours_per_week', 'max'): 0.0, ('salary_bracket', 'hours_per_week', 'min'): 0.056633012265132426, ('salary_bracket', 'hours_per_week', 'sum'): 0.3499529111201557, ('salary_bracket', 'hours_per_week', 'count'): 0.35162403067779668}\n"
     ]
    }
   ],
   "source": [
    "from IPython.display import display\n",
    "from sklearn.preprocessing import normalize\n",
    "from scipy.stats import entropy\n",
    "import operator    \n",
    "\n",
    "utility_score = {}\n",
    "new_ref_dict = {}\n",
    "new_query_dict = {}\n",
    " \n",
    "for key in ref_dict:\n",
    "    attribute, measure = key\n",
    "    \n",
    "    ref_view = ref_dict[key]\n",
    "    query_view = query_dict[key]\n",
    "    \n",
    "    joined_df = ref_view.merge(right=query_view ,on=attribute, how='inner',  suffixes = (\"_ref\", \"_query\"), sort=True)\n",
    "    ref_view = joined_df.iloc[:,0:6]\n",
    "    query_view =  pd.concat([joined_df.iloc[:,0],joined_df.iloc[:,6:]], axis=1)\n",
    "    \n",
    "    new_ref_dict[(attribute, measure)] = ref_view\n",
    "    new_query_dict[(attribute, measure)] = query_view\n",
    "    \n",
    "    function_list = [\"avg\", \"max\", \"min\", \"sum\", \"count\"]\n",
    "    \n",
    "    for i in range(1, 6):\n",
    "        ref_measure = ref_view.iloc[:,i].as_matrix()\n",
    "        query_measure = query_view.iloc[:,i].as_matrix()\n",
    "        kl_divergence = entropy(ref_measure, query_measure)\n",
    "        utility_score[(attribute, measure, function_list[i-1])] = kl_divergence\n",
    "#         print(\"kl_divergence\", kl_divergence)\n",
    "    \n",
    "print(utility_score)\n",
    "\n",
    "# sorted_utility_score = sorted(utility_score.items(), key=operator.itemgetter(1), reverse=True)\n",
    "# print(sorted_utility_score)   \n",
    "# print(type(sorted_utility_score))\n",
    "    \n",
    "    \n",
    "    "
   ]
  },
  {
   "cell_type": "code",
   "execution_count": 4,
   "metadata": {},
   "outputs": [],
   "source": [
    "import pickle\n",
    "       \n",
    "with open('ref_data.pickle', 'wb') as handle:\n",
    "    pickle.dump(new_ref_dict, handle, protocol=pickle.HIGHEST_PROTOCOL)\n",
    "    \n",
    "with open('query_data.pickle', 'wb') as handle:\n",
    "    pickle.dump(new_query_dict, handle, protocol=pickle.HIGHEST_PROTOCOL)\n",
    "    \n",
    "with open('utility_score.pickle', 'wb') as handle:\n",
    "    pickle.dump(utility_score, handle, protocol=pickle.HIGHEST_PROTOCOL)"
   ]
  },
  {
   "cell_type": "code",
   "execution_count": 5,
   "metadata": {},
   "outputs": [],
   "source": [
    "\n",
    "    \n",
    "with open('ref_data.pickle', 'rb') as handle:\n",
    "    ref_data = pickle.load( handle)\n",
    "    \n",
    "with open('query_data.pickle', 'rb') as handle:\n",
    "    query_data = pickle.load(handle)\n",
    "    \n",
    "with open('utility_score.pickle', 'rb') as handle:\n",
    "    utility_score = pickle.load(handle)\n",
    "    \n",
    "    "
   ]
  },
  {
   "cell_type": "code",
   "execution_count": 6,
   "metadata": {},
   "outputs": [
    {
     "name": "stdout",
     "output_type": "stream",
     "text": [
      "{('age', 'age', 'avg'): 0.0, ('age', 'age', 'max'): 0.0, ('age', 'age', 'min'): 0.0, ('age', 'age', 'sum'): 0.41525284711643645, ('age', 'age', 'count'): 0.63695420483714493, ('age', 'years_of_education', 'avg'): 0.0074841032784975815, ('age', 'years_of_education', 'max'): 0.0072285366452549639, ('age', 'years_of_education', 'min'): 0.15536395528767394, ('age', 'years_of_education', 'sum'): 0.61633942671324182, ('age', 'years_of_education', 'count'): 0.63695420483714493, ('age', 'capital_gain', 'avg'): inf, ('age', 'capital_gain', 'max'): inf, ('age', 'capital_gain', 'min'): inf, ('age', 'capital_gain', 'sum'): inf, ('age', 'capital_gain', 'count'): 0.63695420483714493, ('age', 'capital_loss', 'avg'): inf, ('age', 'capital_loss', 'max'): inf, ('age', 'capital_loss', 'min'): inf, ('age', 'capital_loss', 'sum'): inf, ('age', 'capital_loss', 'count'): 0.63695420483714493, ('age', 'hours_per_week', 'avg'): 0.040013006808685046, ('age', 'hours_per_week', 'max'): 0.04966849541727833, ('age', 'hours_per_week', 'min'): 0.61358974176864922, ('age', 'hours_per_week', 'sum'): 0.49959338896540534, ('age', 'hours_per_week', 'count'): 0.63695420483714493, ('workclass', 'age', 'avg'): 0.01886199639117167, ('workclass', 'age', 'max'): 0.0027813837371652057, ('workclass', 'age', 'min'): 0.015709739595898282, ('workclass', 'age', 'sum'): 0.04807096561884909, ('workclass', 'age', 'count'): 0.054071501162145388, ('workclass', 'years_of_education', 'avg'): 0.0028445615533060561, ('workclass', 'years_of_education', 'max'): 0.0034301752840544368, ('workclass', 'years_of_education', 'min'): 0.15090339300419389, ('workclass', 'years_of_education', 'sum'): 0.053177236305042383, ('workclass', 'years_of_education', 'count'): 0.054071501162145388, ('workclass', 'capital_gain', 'avg'): 0.21339069942828159, ('workclass', 'capital_gain', 'max'): 0.19277189808729142, ('workclass', 'capital_gain', 'min'): inf, ('workclass', 'capital_gain', 'sum'): 0.067685668245377334, ('workclass', 'capital_gain', 'count'): 0.054071501162145388, ('workclass', 'capital_loss', 'avg'): 0.04340854588471299, ('workclass', 'capital_loss', 'max'): 0.019751157586366953, ('workclass', 'capital_loss', 'min'): inf, ('workclass', 'capital_loss', 'sum'): 0.086556817824307755, ('workclass', 'capital_loss', 'count'): 0.054071501162145388, ('workclass', 'hours_per_week', 'avg'): 0.0060836011647974692, ('workclass', 'hours_per_week', 'max'): 0.0082276026563557619, ('workclass', 'hours_per_week', 'min'): 0.71109623933759236, ('workclass', 'hours_per_week', 'sum'): 0.056280864655286388, ('workclass', 'hours_per_week', 'count'): 0.054071501162145388, ('education', 'age', 'avg'): 0.0066859573797910833, ('education', 'age', 'max'): 0.0039191878105504681, ('education', 'age', 'min'): 0.003363438246283908, ('education', 'age', 'sum'): 0.03292061276470469, ('education', 'age', 'count'): 0.049781822897674896, ('education', 'years_of_education', 'avg'): 0.0, ('education', 'years_of_education', 'max'): 0.0, ('education', 'years_of_education', 'min'): 0.0, ('education', 'years_of_education', 'sum'): 0.054438074779529284, ('education', 'years_of_education', 'count'): 0.049781822897674896, ('education', 'capital_gain', 'avg'): 0.15186897204274677, ('education', 'capital_gain', 'max'): 0.40502442880534817, ('education', 'capital_gain', 'min'): inf, ('education', 'capital_gain', 'sum'): 0.076295838152579162, ('education', 'capital_gain', 'count'): 0.049781822897674896, ('education', 'capital_loss', 'avg'): 0.12290921424138487, ('education', 'capital_loss', 'max'): 0.083034591656559603, ('education', 'capital_loss', 'min'): inf, ('education', 'capital_loss', 'sum'): 0.081300185765784655, ('education', 'capital_loss', 'count'): 0.049781822897674896, ('education', 'hours_per_week', 'avg'): 0.003361576118954347, ('education', 'hours_per_week', 'max'): 0.0053292340053463713, ('education', 'hours_per_week', 'min'): 0.33408674690299101, ('education', 'hours_per_week', 'sum'): 0.035343936069269451, ('education', 'hours_per_week', 'count'): 0.049781822897674896, ('years_of_education', 'age', 'avg'): 0.0066859573797910851, ('years_of_education', 'age', 'max'): 0.0039191878105504672, ('years_of_education', 'age', 'min'): 0.0033634382462839115, ('years_of_education', 'age', 'sum'): 0.03292061276470469, ('years_of_education', 'age', 'count'): 0.049781822897674896, ('years_of_education', 'years_of_education', 'avg'): 0.0, ('years_of_education', 'years_of_education', 'max'): 0.0, ('years_of_education', 'years_of_education', 'min'): 0.0, ('years_of_education', 'years_of_education', 'sum'): 0.054438074779529291, ('years_of_education', 'years_of_education', 'count'): 0.049781822897674896, ('years_of_education', 'capital_gain', 'avg'): 0.15186897204274677, ('years_of_education', 'capital_gain', 'max'): 0.40502442880534822, ('years_of_education', 'capital_gain', 'min'): inf, ('years_of_education', 'capital_gain', 'sum'): 0.076295838152579148, ('years_of_education', 'capital_gain', 'count'): 0.049781822897674896, ('years_of_education', 'capital_loss', 'avg'): 0.1229092142413849, ('years_of_education', 'capital_loss', 'max'): 0.083034591656559603, ('years_of_education', 'capital_loss', 'min'): inf, ('years_of_education', 'capital_loss', 'sum'): 0.081300185765784655, ('years_of_education', 'capital_loss', 'count'): 0.049781822897674896, ('years_of_education', 'hours_per_week', 'avg'): 0.0033615761189543475, ('years_of_education', 'hours_per_week', 'max'): 0.0053292340053463713, ('years_of_education', 'hours_per_week', 'min'): 0.33408674690299101, ('years_of_education', 'hours_per_week', 'sum'): 0.035343936069269444, ('years_of_education', 'hours_per_week', 'count'): 0.049781822897674896, ('marital_status', 'age', 'avg'): 0.0, ('marital_status', 'age', 'max'): 0.0, ('marital_status', 'age', 'min'): 0.0, ('marital_status', 'age', 'sum'): 0.0, ('marital_status', 'age', 'count'): 0.0, ('marital_status', 'years_of_education', 'avg'): 0.0, ('marital_status', 'years_of_education', 'max'): 0.0, ('marital_status', 'years_of_education', 'min'): 0.0, ('marital_status', 'years_of_education', 'sum'): 0.0, ('marital_status', 'years_of_education', 'count'): 0.0, ('marital_status', 'capital_gain', 'avg'): 0.0, ('marital_status', 'capital_gain', 'max'): 0.0, ('marital_status', 'capital_gain', 'min'): 0.0, ('marital_status', 'capital_gain', 'sum'): 0.0, ('marital_status', 'capital_gain', 'count'): 0.0, ('marital_status', 'capital_loss', 'avg'): 0.0, ('marital_status', 'capital_loss', 'max'): 0.0, ('marital_status', 'capital_loss', 'min'): 0.0, ('marital_status', 'capital_loss', 'sum'): 0.0, ('marital_status', 'capital_loss', 'count'): 0.0, ('marital_status', 'hours_per_week', 'avg'): 0.0, ('marital_status', 'hours_per_week', 'max'): 0.0, ('marital_status', 'hours_per_week', 'min'): 0.0, ('marital_status', 'hours_per_week', 'sum'): 0.0, ('marital_status', 'hours_per_week', 'count'): 0.0, ('occupation', 'age', 'avg'): 0.0045336045842586624, ('occupation', 'age', 'max'): 0.0031578104532871158, ('occupation', 'age', 'min'): 0.0034053690351958377, ('occupation', 'age', 'sum'): 0.17259456177657445, ('occupation', 'age', 'count'): 0.18197020620867388, ('occupation', 'years_of_education', 'avg'): 0.00077201553266759322, ('occupation', 'years_of_education', 'max'): 0.0013833801061603937, ('occupation', 'years_of_education', 'min'): 0.061050983741416251, ('occupation', 'years_of_education', 'sum'): 0.17440113188298376, ('occupation', 'years_of_education', 'count'): 0.18197020620867388, ('occupation', 'capital_gain', 'avg'): 0.093020331206033258, ('occupation', 'capital_gain', 'max'): 0.3539705906611289, ('occupation', 'capital_gain', 'min'): inf, ('occupation', 'capital_gain', 'sum'): 0.11641841070135683, ('occupation', 'capital_gain', 'count'): 0.18197020620867388, ('occupation', 'capital_loss', 'avg'): 0.41749211186811641, ('occupation', 'capital_loss', 'max'): 0.075148972457763905, ('occupation', 'capital_loss', 'min'): inf, ('occupation', 'capital_loss', 'sum'): 0.16841613486992518, ('occupation', 'capital_loss', 'count'): 0.18197020620867388, ('occupation', 'hours_per_week', 'avg'): 0.0016564897442403166, ('occupation', 'hours_per_week', 'max'): 0.0059103709934905432, ('occupation', 'hours_per_week', 'min'): 0.60393984111188193, ('occupation', 'hours_per_week', 'sum'): 0.17095400936939464, ('occupation', 'hours_per_week', 'count'): 0.18197020620867388, ('relationship', 'age', 'avg'): 0.0016522338345051589, ('relationship', 'age', 'max'): 0.017019405317579023, ('relationship', 'age', 'min'): 0.0010493149571851167, ('relationship', 'age', 'sum'): 0.13809962523275818, ('relationship', 'age', 'count'): 0.14493320204956389, ('relationship', 'years_of_education', 'avg'): 0.0010959329382555123, ('relationship', 'years_of_education', 'max'): 0.0035059503413827214, ('relationship', 'years_of_education', 'min'): 0.049856756174223443, ('relationship', 'years_of_education', 'sum'): 0.13842918555255537, ('relationship', 'years_of_education', 'count'): 0.14493320204956389, ('relationship', 'capital_gain', 'avg'): 0.13274489734848699, ('relationship', 'capital_gain', 'max'): 0.50940656109889826, ('relationship', 'capital_gain', 'min'): inf, ('relationship', 'capital_gain', 'sum'): 0.20692251063892764, ('relationship', 'capital_gain', 'count'): 0.14493320204956389, ('relationship', 'capital_loss', 'avg'): 0.068600669013098275, ('relationship', 'capital_loss', 'max'): 0.00090295872370466448, ('relationship', 'capital_loss', 'min'): inf, ('relationship', 'capital_loss', 'sum'): 0.12753058674266837, ('relationship', 'capital_loss', 'count'): 0.14493320204956389, ('relationship', 'hours_per_week', 'avg'): 0.0014037918105332114, ('relationship', 'hours_per_week', 'max'): 0.0096041368191335935, ('relationship', 'hours_per_week', 'min'): 0.17120348607051367, ('relationship', 'hours_per_week', 'sum'): 0.14559486828034032, ('relationship', 'hours_per_week', 'count'): 0.14493320204956389, ('race', 'age', 'avg'): 0.0011523778805844201, ('race', 'age', 'max'): 0.0012716029441645071, ('race', 'age', 'min'): 0.00097025672459952542, ('race', 'age', 'sum'): 0.042481584612053647, ('race', 'age', 'count'): 0.03614357154623897, ('race', 'years_of_education', 'avg'): 0.0012329688516569577, ('race', 'years_of_education', 'max'): 0.00032463262377687221, ('race', 'years_of_education', 'min'): 0.0, ('race', 'years_of_education', 'sum'): 0.035672192219789151, ('race', 'years_of_education', 'count'): 0.03614357154623897, ('race', 'capital_gain', 'avg'): 0.31851981169047533, ('race', 'capital_gain', 'max'): 0.2356303400708499, ('race', 'capital_gain', 'min'): inf, ('race', 'capital_gain', 'sum'): 0.058630231001174468, ('race', 'capital_gain', 'count'): 0.03614357154623897, ('race', 'capital_loss', 'avg'): 0.017860412914010807, ('race', 'capital_loss', 'max'): 0.061351227434332328, ('race', 'capital_loss', 'min'): inf, ('race', 'capital_loss', 'sum'): 0.046953761850379784, ('race', 'capital_loss', 'count'): 0.03614357154623897, ('race', 'hours_per_week', 'avg'): 0.00043244999331095487, ('race', 'hours_per_week', 'max'): 0.010951710293211996, ('race', 'hours_per_week', 'min'): 0.32450769219625547, ('race', 'hours_per_week', 'sum'): 0.038913833221318958, ('race', 'hours_per_week', 'count'): 0.03614357154623897, ('sex', 'age', 'avg'): 0.0057940084285867319, ('sex', 'age', 'max'): 0.0, ('sex', 'age', 'min'): 0.0, ('sex', 'age', 'sum'): 0.56434677323561544, ('sex', 'age', 'count'): 0.46290341083787145, ('sex', 'years_of_education', 'avg'): 0.0, ('sex', 'years_of_education', 'max'): 0.0, ('sex', 'years_of_education', 'min'): 0.0, ('sex', 'years_of_education', 'sum'): 0.47179258690739867, ('sex', 'years_of_education', 'count'): 0.46290341083787145, ('sex', 'capital_gain', 'avg'): 0.0092197367035182082, ('sex', 'capital_gain', 'max'): 0.0, ('sex', 'capital_gain', 'min'): inf, ('sex', 'capital_gain', 'sum'): 0.30846647682536776, ('sex', 'capital_gain', 'count'): 0.46290341083787145, ('sex', 'capital_loss', 'avg'): 0.00079547319355820212, ('sex', 'capital_loss', 'max'): 0.0047976326351829024, ('sex', 'capital_loss', 'min'): inf, ('sex', 'capital_loss', 'sum'): 0.40485497187967062, ('sex', 'capital_loss', 'count'): 0.46290341083787145, ('sex', 'hours_per_week', 'avg'): 0.0018119674874914928, ('sex', 'hours_per_week', 'max'): 0.0, ('sex', 'hours_per_week', 'min'): 0.0, ('sex', 'hours_per_week', 'sum'): 0.48841601070733748, ('sex', 'hours_per_week', 'count'): 0.46290341083787145, ('hours_per_week', 'age', 'avg'): 0.028731632986042595, ('hours_per_week', 'age', 'max'): 0.020275409905182687, ('hours_per_week', 'age', 'min'): 0.058664358103019801, ('hours_per_week', 'age', 'sum'): 0.097392481326945932, ('hours_per_week', 'age', 'count'): 0.14216908467425793, ('hours_per_week', 'years_of_education', 'avg'): 0.016810570630006516, ('hours_per_week', 'years_of_education', 'max'): 0.010647903943914338, ('hours_per_week', 'years_of_education', 'min'): 0.21310584765540261, ('hours_per_week', 'years_of_education', 'sum'): 0.1333169697677585, ('hours_per_week', 'years_of_education', 'count'): 0.14216908467425793, ('hours_per_week', 'capital_gain', 'avg'): inf, ('hours_per_week', 'capital_gain', 'max'): inf, ('hours_per_week', 'capital_gain', 'min'): inf, ('hours_per_week', 'capital_gain', 'sum'): inf, ('hours_per_week', 'capital_gain', 'count'): 0.14216908467425793, ('hours_per_week', 'capital_loss', 'avg'): inf, ('hours_per_week', 'capital_loss', 'max'): inf, ('hours_per_week', 'capital_loss', 'min'): inf, ('hours_per_week', 'capital_loss', 'sum'): inf, ('hours_per_week', 'capital_loss', 'count'): 0.14216908467425793, ('hours_per_week', 'hours_per_week', 'avg'): 0.0, ('hours_per_week', 'hours_per_week', 'max'): 0.0, ('hours_per_week', 'hours_per_week', 'min'): 0.0, ('hours_per_week', 'hours_per_week', 'sum'): 0.11952309632961437, ('hours_per_week', 'hours_per_week', 'count'): 0.14216908467425793, ('native_country', 'age', 'avg'): 0.007930395957908459, ('native_country', 'age', 'max'): 0.022879243302857157, ('native_country', 'age', 'min'): 0.0095458212746317855, ('native_country', 'age', 'sum'): 0.0096716671619317129, ('native_country', 'age', 'count'): 0.0087461523320553798, ('native_country', 'years_of_education', 'avg'): 0.010302477823881256, ('native_country', 'years_of_education', 'max'): 0.0080665656449839494, ('native_country', 'years_of_education', 'min'): 0.25868508726372968, ('native_country', 'years_of_education', 'sum'): 0.0082218845572821567, ('native_country', 'years_of_education', 'count'): 0.0087461523320553798, ('native_country', 'capital_gain', 'avg'): inf, ('native_country', 'capital_gain', 'max'): inf, ('native_country', 'capital_gain', 'min'): inf, ('native_country', 'capital_gain', 'sum'): inf, ('native_country', 'capital_gain', 'count'): 0.0087461523320553798, ('native_country', 'capital_loss', 'avg'): inf, ('native_country', 'capital_loss', 'max'): inf, ('native_country', 'capital_loss', 'min'): inf, ('native_country', 'capital_loss', 'sum'): inf, ('native_country', 'capital_loss', 'count'): 0.0087461523320553798, ('native_country', 'hours_per_week', 'avg'): 0.0056174056499988132, ('native_country', 'hours_per_week', 'max'): 0.028400268140913652, ('native_country', 'hours_per_week', 'min'): 0.24557292786251556, ('native_country', 'hours_per_week', 'sum'): 0.0088997001167317787, ('native_country', 'hours_per_week', 'count'): 0.0087461523320553798, ('salary_bracket', 'age', 'avg'): 0.0058916249327114548, ('salary_bracket', 'age', 'max'): 0.0, ('salary_bracket', 'age', 'min'): 0.0, ('salary_bracket', 'age', 'sum'): 0.33327794984677717, ('salary_bracket', 'age', 'count'): 0.35162403067779668, ('salary_bracket', 'years_of_education', 'avg'): 0.0009306226817849296, ('salary_bracket', 'years_of_education', 'max'): 0.0, ('salary_bracket', 'years_of_education', 'min'): 0.01641675862934236, ('salary_bracket', 'years_of_education', 'sum'): 0.39907875965706591, ('salary_bracket', 'years_of_education', 'count'): 0.35162403067779668, ('salary_bracket', 'capital_gain', 'avg'): 0.016710329203880405, ('salary_bracket', 'capital_gain', 'max'): 0.0036013765322530852, ('salary_bracket', 'capital_gain', 'min'): inf, ('salary_bracket', 'capital_gain', 'sum'): 0.11136784574935268, ('salary_bracket', 'capital_gain', 'count'): 0.35162403067779668, ('salary_bracket', 'capital_loss', 'avg'): 0.00022352011303774719, ('salary_bracket', 'capital_loss', 'max'): 0.0016801764841089632, ('salary_bracket', 'capital_loss', 'min'): inf, ('salary_bracket', 'capital_loss', 'sum'): 0.59519604115353331, ('salary_bracket', 'capital_loss', 'count'): 0.35162403067779668, ('salary_bracket', 'hours_per_week', 'avg'): 0.0019262789248685463, ('salary_bracket', 'hours_per_week', 'max'): 0.0, ('salary_bracket', 'hours_per_week', 'min'): 0.056633012265132426, ('salary_bracket', 'hours_per_week', 'sum'): 0.3499529111201557, ('salary_bracket', 'hours_per_week', 'count'): 0.35162403067779668}\n"
     ]
    }
   ],
   "source": [
    "print(utility_score)"
   ]
  },
  {
   "cell_type": "code",
   "execution_count": 7,
   "metadata": {},
   "outputs": [
    {
     "name": "stdout",
     "output_type": "stream",
     "text": [
      "C:\\Users\\Abhinav Shaw\\Anaconda3\\python.exe\n",
      "3.6.4 |Anaconda, Inc.| (default, Jan 16 2018, 10:22:32) [MSC v.1900 64 bit (AMD64)]\n",
      "sys.version_info(major=3, minor=6, micro=4, releaselevel='final', serial=0)\n"
     ]
    }
   ],
   "source": [
    "# display(ref_data[('age', 'age')])\n",
    "import sys\n",
    "print(sys.executable)\n",
    "print(sys.version)\n",
    "print(sys.version_info)"
   ]
  },
  {
   "cell_type": "code",
   "execution_count": null,
   "metadata": {},
   "outputs": [],
   "source": []
  }
 ],
 "metadata": {
  "kernelspec": {
   "display_name": "Python 3",
   "language": "python",
   "name": "python3"
  },
  "language_info": {
   "codemirror_mode": {
    "name": "ipython",
    "version": 3
   },
   "file_extension": ".py",
   "mimetype": "text/x-python",
   "name": "python",
   "nbconvert_exporter": "python",
   "pygments_lexer": "ipython3",
   "version": "3.6.4"
  }
 },
 "nbformat": 4,
 "nbformat_minor": 2
}
