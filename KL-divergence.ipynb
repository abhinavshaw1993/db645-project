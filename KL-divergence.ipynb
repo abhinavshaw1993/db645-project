{
 "cells": [
  {
   "cell_type": "code",
   "execution_count": 1,
   "metadata": {},
   "outputs": [],
   "source": [
    "import pandas as pd\n",
    "\n",
    "attribute_list = [\"age\", \n",
    "                  \"workclass\", \n",
    "                  \"education\", \n",
    "                  \"years_of_education\", \n",
    "                  \"marital_status\", \n",
    "                  \"occupation\", \n",
    "                  \"relationship\", \n",
    "                  \"race\", \n",
    "                  \"sex\", \n",
    "                  \"hours_per_week\", \n",
    "                  \"native_country\", \n",
    "                  \"salary_bracket\"]\n",
    "\n",
    "measure_list = [\n",
    "    \"age\",\n",
    "    \"years_of_education\", \n",
    "    \"capital_gain\", \n",
    "    \"capital_loss\", \n",
    "    \"hours_per_week\"\n",
    "]\n",
    "\n",
    "sql_dict = {}\n",
    "ref_dict = {}\n",
    "query_dict = {}\n",
    "\n",
    "def exec_sql_query(query, param=None):\n",
    "    \n",
    "    from sqlalchemy import create_engine\n",
    "    import urllib\n",
    "    params = urllib.parse.quote_plus(\"DRIVER={SQL Server Native Client 11.0};SERVER=LAPTOP-C3LFVOFI;DATABASE=student_life;UID=student_sense;PWD=abhinav123\")\n",
    "    engine = create_engine(\"mssql+pyodbc:///?odbc_connect=%s\" % params)\n",
    "    connection = engine.raw_connection()\n",
    "    \n",
    "    try:\n",
    "        cursor = connection.cursor()\n",
    "        if(param):\n",
    "            cursor.execute(query, param)\n",
    "        else : \n",
    "            cursor.execute(query)\n",
    "            \n",
    "        results = cursor.fetchall()\n",
    "        columns = [column[0] for column in cursor.description]\n",
    "        df = pd.DataFrame.from_records(results, columns=columns)\n",
    "        cursor.close()\n",
    "        connection.commit()\n",
    "    finally:\n",
    "        connection.close()\n",
    "    \n",
    "    del engine\n",
    "    return df\n"
   ]
  },
  {
   "cell_type": "code",
   "execution_count": 2,
   "metadata": {},
   "outputs": [],
   "source": [
    "for attribute in attribute_list:\n",
    "    for measure in measure_list:\n",
    "        ref_sql = \"select \"+ attribute + \", avg(\" + measure +\") as avg, max(\"+ measure + \") as max, min(\"+ measure + \") as min, sum(\"+ measure + \") as sum, count(\"+ measure + \") as count from adult where marital_status in  ('Married-AF-spouse' , 'Married-spouse-absent', 'Married-civ-spouse')  group by \"+ attribute\n",
    "        query_sql = \"select \"+ attribute + \", avg(\" + measure +\") as avg, max(\"+ measure + \") as max, min(\"+ measure + \") as min, sum(\"+ measure + \") as sum, count(\"+ measure + \") as count from adult where marital_status not in  ('Married-AF-spouse' , 'Married-spouse-absent', 'Married-civ-spouse')  group by \"+ attribute\n",
    "#         sql_dict[(attribute, measure)] = sql\n",
    "        ref_dict[(attribute, measure)] = exec_sql_query(ref_sql)\n",
    "        query_dict[(attribute, measure)] = exec_sql_query(query_sql)\n",
    "        \n",
    "        \n",
    "\n"
   ]
  },
  {
   "cell_type": "code",
   "execution_count": 3,
   "metadata": {},
   "outputs": [
    {
     "name": "stderr",
     "output_type": "stream",
     "text": [
      "C:\\Users\\Abhinav Shaw\\Anaconda3\\lib\\site-packages\\scipy\\stats\\_distn_infrastructure.py:2508: RuntimeWarning: invalid value encountered in true_divide\n",
      "  pk = 1.0*pk / np.sum(pk, axis=0)\n",
      "C:\\Users\\Abhinav Shaw\\Anaconda3\\lib\\site-packages\\scipy\\stats\\_distn_infrastructure.py:2515: RuntimeWarning: invalid value encountered in true_divide\n",
      "  qk = 1.0*qk / np.sum(qk, axis=0)\n"
     ]
    },
    {
     "name": "stdout",
     "output_type": "stream",
     "text": [
      "{('age', 'age', 'avg'): 0.0, ('age', 'age', 'max'): 0.0, ('age', 'age', 'min'): 0.0, ('age', 'age', 'sum'): 0.20765029647544539, ('age', 'age', 'count'): 0.32782739381929366, ('age', 'years_of_education', 'avg'): 0.0076841173850884211, ('age', 'years_of_education', 'max'): 0.0071442173833017059, ('age', 'years_of_education', 'min'): 0.15115339140441469, ('age', 'years_of_education', 'sum'): 0.32305078402583531, ('age', 'years_of_education', 'count'): 0.32782739381929366, ('age', 'capital_gain', 'avg'): inf, ('age', 'capital_gain', 'max'): inf, ('age', 'capital_gain', 'min'): inf, ('age', 'capital_gain', 'sum'): inf, ('age', 'capital_gain', 'count'): 0.32782739381929366, ('age', 'capital_loss', 'avg'): inf, ('age', 'capital_loss', 'max'): inf, ('age', 'capital_loss', 'min'): inf, ('age', 'capital_loss', 'sum'): inf, ('age', 'capital_loss', 'count'): 0.32782739381929366, ('age', 'hours_per_week', 'avg'): 0.023898681071293143, ('age', 'hours_per_week', 'max'): 0.039777661795872554, ('age', 'hours_per_week', 'min'): 0.67820075486926457, ('age', 'hours_per_week', 'sum'): 0.27841903028308146, ('age', 'hours_per_week', 'count'): 0.32782739381929366, ('workclass', 'age', 'avg'): 0.020253452774370163, ('workclass', 'age', 'max'): 0.0028462904743041416, ('workclass', 'age', 'min'): 0.016447333989031573, ('workclass', 'age', 'sum'): 0.062575027941431202, ('workclass', 'age', 'count'): 0.069579478678354206, ('workclass', 'years_of_education', 'avg'): 0.0029159948933457237, ('workclass', 'years_of_education', 'max'): 0.0036748132388032852, ('workclass', 'years_of_education', 'min'): 0.13056824387949267, ('workclass', 'years_of_education', 'sum'): 0.068926710690458595, ('workclass', 'years_of_education', 'count'): 0.069579478678354206, ('workclass', 'capital_gain', 'avg'): 0.15131634889363962, ('workclass', 'capital_gain', 'max'): 0.17857530406021216, ('workclass', 'capital_gain', 'min'): inf, ('workclass', 'capital_gain', 'sum'): 0.083984536201895749, ('workclass', 'capital_gain', 'count'): 0.069579478678354206, ('workclass', 'capital_loss', 'avg'): 0.046836240739613594, ('workclass', 'capital_loss', 'max'): 0.020440710833097901, ('workclass', 'capital_loss', 'min'): inf, ('workclass', 'capital_loss', 'sum'): 0.12375742936484704, ('workclass', 'capital_loss', 'count'): 0.069579478678354206, ('workclass', 'hours_per_week', 'avg'): 0.0065972700057630451, ('workclass', 'hours_per_week', 'max'): 0.0082461646742210473, ('workclass', 'hours_per_week', 'min'): 0.66009195583000357, ('workclass', 'hours_per_week', 'sum'): 0.07049591472759173, ('workclass', 'hours_per_week', 'count'): 0.069579478678354206, ('education', 'age', 'avg'): 0.0069083208928747558, ('education', 'age', 'max'): 0.0039658082695186959, ('education', 'age', 'min'): 0.003432167635295337, ('education', 'age', 'sum'): 0.036673920557355189, ('education', 'age', 'count'): 0.05311646742822726, ('education', 'years_of_education', 'avg'): 0.0, ('education', 'years_of_education', 'max'): 0.0, ('education', 'years_of_education', 'min'): 0.0, ('education', 'years_of_education', 'sum'): 0.059104317705765609, ('education', 'years_of_education', 'count'): 0.05311646742822726, ('education', 'capital_gain', 'avg'): inf, ('education', 'capital_gain', 'max'): inf, ('education', 'capital_gain', 'min'): inf, ('education', 'capital_gain', 'sum'): inf, ('education', 'capital_gain', 'count'): 0.05311646742822726, ('education', 'capital_loss', 'avg'): inf, ('education', 'capital_loss', 'max'): inf, ('education', 'capital_loss', 'min'): inf, ('education', 'capital_loss', 'sum'): inf, ('education', 'capital_loss', 'count'): 0.05311646742822726, ('education', 'hours_per_week', 'avg'): 0.0034229977593159041, ('education', 'hours_per_week', 'max'): 0.0056134028499475203, ('education', 'hours_per_week', 'min'): 0.24279265292648083, ('education', 'hours_per_week', 'sum'): 0.03891105770949603, ('education', 'hours_per_week', 'count'): 0.05311646742822726, ('years_of_education', 'age', 'avg'): 0.0069083208928747593, ('years_of_education', 'age', 'max'): 0.0039658082695186968, ('years_of_education', 'age', 'min'): 0.003432167635295337, ('years_of_education', 'age', 'sum'): 0.036673920557355189, ('years_of_education', 'age', 'count'): 0.053116467428227274, ('years_of_education', 'years_of_education', 'avg'): 0.0, ('years_of_education', 'years_of_education', 'max'): 0.0, ('years_of_education', 'years_of_education', 'min'): 0.0, ('years_of_education', 'years_of_education', 'sum'): 0.059104317705765616, ('years_of_education', 'years_of_education', 'count'): 0.053116467428227274, ('years_of_education', 'capital_gain', 'avg'): inf, ('years_of_education', 'capital_gain', 'max'): inf, ('years_of_education', 'capital_gain', 'min'): inf, ('years_of_education', 'capital_gain', 'sum'): inf, ('years_of_education', 'capital_gain', 'count'): 0.053116467428227274, ('years_of_education', 'capital_loss', 'avg'): inf, ('years_of_education', 'capital_loss', 'max'): inf, ('years_of_education', 'capital_loss', 'min'): inf, ('years_of_education', 'capital_loss', 'sum'): inf, ('years_of_education', 'capital_loss', 'count'): 0.053116467428227274, ('years_of_education', 'hours_per_week', 'avg'): 0.0034229977593159041, ('years_of_education', 'hours_per_week', 'max'): 0.0056134028499475212, ('years_of_education', 'hours_per_week', 'min'): 0.24279265292648083, ('years_of_education', 'hours_per_week', 'sum'): 0.03891105770949603, ('years_of_education', 'hours_per_week', 'count'): 0.053116467428227274, ('marital_status', 'age', 'avg'): 0.0, ('marital_status', 'age', 'max'): 0.0, ('marital_status', 'age', 'min'): 0.0, ('marital_status', 'age', 'sum'): 0.0, ('marital_status', 'age', 'count'): 0.0, ('marital_status', 'years_of_education', 'avg'): 0.0, ('marital_status', 'years_of_education', 'max'): 0.0, ('marital_status', 'years_of_education', 'min'): 0.0, ('marital_status', 'years_of_education', 'sum'): 0.0, ('marital_status', 'years_of_education', 'count'): 0.0, ('marital_status', 'capital_gain', 'avg'): 0.0, ('marital_status', 'capital_gain', 'max'): 0.0, ('marital_status', 'capital_gain', 'min'): 0.0, ('marital_status', 'capital_gain', 'sum'): 0.0, ('marital_status', 'capital_gain', 'count'): 0.0, ('marital_status', 'capital_loss', 'avg'): 0.0, ('marital_status', 'capital_loss', 'max'): 0.0, ('marital_status', 'capital_loss', 'min'): 0.0, ('marital_status', 'capital_loss', 'sum'): 0.0, ('marital_status', 'capital_loss', 'count'): 0.0, ('marital_status', 'hours_per_week', 'avg'): 0.0, ('marital_status', 'hours_per_week', 'max'): 0.0, ('marital_status', 'hours_per_week', 'min'): 0.0, ('marital_status', 'hours_per_week', 'sum'): 0.0, ('marital_status', 'hours_per_week', 'count'): 0.0, ('occupation', 'age', 'avg'): 0.0046845772701809112, ('occupation', 'age', 'max'): 0.003186758359339497, ('occupation', 'age', 'min'): 0.003442956705924352, ('occupation', 'age', 'sum'): 0.15035023868598438, ('occupation', 'age', 'count'): 0.16265467096323477, ('occupation', 'years_of_education', 'avg'): 0.00078544846297639377, ('occupation', 'years_of_education', 'max'): 0.0013868754344326072, ('occupation', 'years_of_education', 'min'): 0.060832930092515808, ('occupation', 'years_of_education', 'sum'): 0.15220604823212505, ('occupation', 'years_of_education', 'count'): 0.16265467096323477, ('occupation', 'capital_gain', 'avg'): 0.088522512752571378, ('occupation', 'capital_gain', 'max'): 0.40872984657202183, ('occupation', 'capital_gain', 'min'): inf, ('occupation', 'capital_gain', 'sum'): 0.086628952047981503, ('occupation', 'capital_gain', 'count'): 0.16265467096323477, ('occupation', 'capital_loss', 'avg'): inf, ('occupation', 'capital_loss', 'max'): inf, ('occupation', 'capital_loss', 'min'): inf, ('occupation', 'capital_loss', 'sum'): inf, ('occupation', 'capital_loss', 'count'): 0.16265467096323477, ('occupation', 'hours_per_week', 'avg'): 0.0016817788423663686, ('occupation', 'hours_per_week', 'max'): 0.0059703166624117624, ('occupation', 'hours_per_week', 'min'): 0.56510619942008666, ('occupation', 'hours_per_week', 'sum'): 0.14867482271796939, ('occupation', 'hours_per_week', 'count'): 0.16265467096323477, ('relationship', 'age', 'avg'): 0.0016658973588904759, ('relationship', 'age', 'max'): 0.015803115129093322, ('relationship', 'age', 'min'): 0.0010403953059018346, ('relationship', 'age', 'sum'): 0.21377634408126461, ('relationship', 'age', 'count'): 0.22083265182790768, ('relationship', 'years_of_education', 'avg'): 0.0010781729403980776, ('relationship', 'years_of_education', 'max'): 0.0034153618178920722, ('relationship', 'years_of_education', 'min'): 0.054115320909768422, ('relationship', 'years_of_education', 'sum'): 0.21511192242759097, ('relationship', 'years_of_education', 'count'): 0.22083265182790768, ('relationship', 'capital_gain', 'avg'): 0.12309930346334599, ('relationship', 'capital_gain', 'max'): 0.38390298198696438, ('relationship', 'capital_gain', 'min'): inf, ('relationship', 'capital_gain', 'sum'): 0.35325007401249681, ('relationship', 'capital_gain', 'count'): 0.22083265182790768, ('relationship', 'capital_loss', 'avg'): 0.071195838346433213, ('relationship', 'capital_loss', 'max'): 0.00090006879239552286, ('relationship', 'capital_loss', 'min'): inf, ('relationship', 'capital_loss', 'sum'): 0.1481128786125232, ('relationship', 'capital_loss', 'count'): 0.22083265182790768, ('relationship', 'hours_per_week', 'avg'): 0.0014012034624540856, ('relationship', 'hours_per_week', 'max'): 0.0095428794979891957, ('relationship', 'hours_per_week', 'min'): 0.15294303817108448, ('relationship', 'hours_per_week', 'sum'): 0.22584843211521163, ('relationship', 'hours_per_week', 'count'): 0.22083265182790768, ('race', 'age', 'avg'): 0.0011544970071232074, ('race', 'age', 'max'): 0.0012649144740034353, ('race', 'age', 'min'): 0.00095738216303547716, ('race', 'age', 'sum'): 0.033348012612454681, ('race', 'age', 'count'): 0.028726418905131321, ('race', 'years_of_education', 'avg'): 0.0012386568778321519, ('race', 'years_of_education', 'max'): 0.00032892202065413351, ('race', 'years_of_education', 'min'): 0.0, ('race', 'years_of_education', 'sum'): 0.028202488925661393, ('race', 'years_of_education', 'count'): 0.028726418905131321, ('race', 'capital_gain', 'avg'): 0.59028085057401247, ('race', 'capital_gain', 'max'): 0.52384821905390622, ('race', 'capital_gain', 'min'): inf, ('race', 'capital_gain', 'sum'): 0.053195940819523779, ('race', 'capital_gain', 'count'): 0.028726418905131321, ('race', 'capital_loss', 'avg'): 0.017378633407520338, ('race', 'capital_loss', 'max'): 0.062983965090060379, ('race', 'capital_loss', 'min'): inf, ('race', 'capital_loss', 'sum'): 0.035277665804461129, ('race', 'capital_loss', 'count'): 0.028726418905131321, ('race', 'hours_per_week', 'avg'): 0.00043272299094064808, ('race', 'hours_per_week', 'max'): 0.011383804348507335, ('race', 'hours_per_week', 'min'): 0.34278104316019575, ('race', 'hours_per_week', 'sum'): 0.03055733314764255, ('race', 'hours_per_week', 'count'): 0.028726418905131321, ('sex', 'age', 'avg'): 0.0057961012496934375, ('sex', 'age', 'max'): 0.0, ('sex', 'age', 'min'): 0.0, ('sex', 'age', 'sum'): 0.42068292989514855, ('sex', 'age', 'count'): 0.35216320448249649, ('sex', 'years_of_education', 'avg'): 0.0, ('sex', 'years_of_education', 'max'): 0.0, ('sex', 'years_of_education', 'min'): 0.0, ('sex', 'years_of_education', 'sum'): 0.35922349050546198, ('sex', 'years_of_education', 'count'): 0.35216320448249649, ('sex', 'capital_gain', 'avg'): 0.0093592035383893019, ('sex', 'capital_gain', 'max'): 0.0, ('sex', 'capital_gain', 'min'): inf, ('sex', 'capital_gain', 'sum'): 0.22577741552986549, ('sex', 'capital_gain', 'count'): 0.35216320448249649, ('sex', 'capital_loss', 'avg'): 0.00079728948484704062, ('sex', 'capital_loss', 'max'): 0.0048049082347901423, ('sex', 'capital_loss', 'min'): inf, ('sex', 'capital_loss', 'sum'): 0.29808304494480392, ('sex', 'capital_loss', 'count'): 0.35216320448249649, ('sex', 'hours_per_week', 'avg'): 0.0018068721461669962, ('sex', 'hours_per_week', 'max'): 0.0, ('sex', 'hours_per_week', 'min'): 0.0, ('sex', 'hours_per_week', 'sum'): 0.35518585519564527, ('sex', 'hours_per_week', 'count'): 0.35216320448249649, ('hours_per_week', 'age', 'avg'): 0.028571311307459712, ('hours_per_week', 'age', 'max'): 0.021611568397507028, ('hours_per_week', 'age', 'min'): 0.063223464326632894, ('hours_per_week', 'age', 'sum'): 0.093123115452707239, ('hours_per_week', 'age', 'count'): 0.12858555970526042, ('hours_per_week', 'years_of_education', 'avg'): 0.0164093858125209, ('hours_per_week', 'years_of_education', 'max'): 0.011240949645032475, ('hours_per_week', 'years_of_education', 'min'): 0.19358192436878516, ('hours_per_week', 'years_of_education', 'sum'): 0.12342347430119296, ('hours_per_week', 'years_of_education', 'count'): 0.12858555970526042, ('hours_per_week', 'capital_gain', 'avg'): inf, ('hours_per_week', 'capital_gain', 'max'): inf, ('hours_per_week', 'capital_gain', 'min'): inf, ('hours_per_week', 'capital_gain', 'sum'): inf, ('hours_per_week', 'capital_gain', 'count'): 0.12858555970526042, ('hours_per_week', 'capital_loss', 'avg'): inf, ('hours_per_week', 'capital_loss', 'max'): inf, ('hours_per_week', 'capital_loss', 'min'): inf, ('hours_per_week', 'capital_loss', 'sum'): inf, ('hours_per_week', 'capital_loss', 'count'): 0.12858555970526042, ('hours_per_week', 'hours_per_week', 'avg'): 0.0, ('hours_per_week', 'hours_per_week', 'max'): 0.0, ('hours_per_week', 'hours_per_week', 'min'): 0.0, ('hours_per_week', 'hours_per_week', 'sum'): 0.10794814025771673, ('hours_per_week', 'hours_per_week', 'count'): 0.12858555970526042, ('native_country', 'age', 'avg'): 0.0077264131487644631, ('native_country', 'age', 'max'): 0.022696402059461988, ('native_country', 'age', 'min'): 0.0094270335260494779, ('native_country', 'age', 'sum'): 0.01170432389530118, ('native_country', 'age', 'count'): 0.010702666519270437, ('native_country', 'years_of_education', 'avg'): 0.009827422103895412, ('native_country', 'years_of_education', 'max'): 0.007845516415448929, ('native_country', 'years_of_education', 'min'): 0.22166612028217447, ('native_country', 'years_of_education', 'sum'): 0.010176107340470232, ('native_country', 'years_of_education', 'count'): 0.010702666519270437, ('native_country', 'capital_gain', 'avg'): inf, ('native_country', 'capital_gain', 'max'): inf, ('native_country', 'capital_gain', 'min'): inf, ('native_country', 'capital_gain', 'sum'): inf, ('native_country', 'capital_gain', 'count'): 0.010702666519270437, ('native_country', 'capital_loss', 'avg'): inf, ('native_country', 'capital_loss', 'max'): inf, ('native_country', 'capital_loss', 'min'): inf, ('native_country', 'capital_loss', 'sum'): inf, ('native_country', 'capital_loss', 'count'): 0.010702666519270437, ('native_country', 'hours_per_week', 'avg'): 0.005870983632948119, ('native_country', 'hours_per_week', 'max'): 0.027598981462134395, ('native_country', 'hours_per_week', 'min'): 0.25386428371224956, ('native_country', 'hours_per_week', 'sum'): 0.010915336962740375, ('native_country', 'hours_per_week', 'count'): 0.010702666519270437, ('salary_bracket', 'age', 'avg'): 0.0059249415699866026, ('salary_bracket', 'age', 'max'): 0.0, ('salary_bracket', 'age', 'min'): 0.0, ('salary_bracket', 'age', 'sum'): 0.49039933839526367, ('salary_bracket', 'age', 'count'): 0.55027343953768404, ('salary_bracket', 'years_of_education', 'avg'): 0.00093390682513572881, ('salary_bracket', 'years_of_education', 'max'): 0.0, ('salary_bracket', 'years_of_education', 'min'): 0.017372000379671279, ('salary_bracket', 'years_of_education', 'sum'): 0.59114946926181211, ('salary_bracket', 'years_of_education', 'count'): 0.55027343953768404, ('salary_bracket', 'capital_gain', 'avg'): 0.023550117741814473, ('salary_bracket', 'capital_gain', 'max'): 0.0037074838017701062, ('salary_bracket', 'capital_gain', 'min'): inf, ('salary_bracket', 'capital_gain', 'sum'): 0.081113770520302067, ('salary_bracket', 'capital_gain', 'count'): 0.55027343953768404, ('salary_bracket', 'capital_loss', 'avg'): 0.00022560813997104384, ('salary_bracket', 'capital_loss', 'max'): 0.0016837455771574229, ('salary_bracket', 'capital_loss', 'min'): inf, ('salary_bracket', 'capital_loss', 'sum'): 0.64485082345489531, ('salary_bracket', 'capital_loss', 'count'): 0.55027343953768404, ('salary_bracket', 'hours_per_week', 'avg'): 0.00193249193981734, ('salary_bracket', 'hours_per_week', 'max'): 0.0, ('salary_bracket', 'hours_per_week', 'min'): 0.058891517828191742, ('salary_bracket', 'hours_per_week', 'sum'): 0.51824731114779743, ('salary_bracket', 'hours_per_week', 'count'): 0.55027343953768404}\n"
     ]
    }
   ],
   "source": [
    "from IPython.display import display\n",
    "from sklearn.preprocessing import normalize\n",
    "from scipy.stats import entropy\n",
    "import operator    \n",
    "\n",
    "utility_score = {}\n",
    "new_ref_dict = {}\n",
    "new_query_dict = {}\n",
    " \n",
    "for key in ref_dict:\n",
    "    attribute, measure = key\n",
    "    \n",
    "    ref_view = ref_dict[key]\n",
    "    query_view = query_dict[key]\n",
    "    \n",
    "    joined_df = ref_view.merge(right=query_view ,on=attribute, how='inner',  suffixes = (\"_ref\", \"_query\"), sort=True)\n",
    "    ref_view = joined_df.iloc[:,0:6]\n",
    "    query_view =  pd.concat([joined_df.iloc[:,0],joined_df.iloc[:,6:]], axis=1)\n",
    "    \n",
    "    new_ref_dict[(attribute, measure)] = ref_view\n",
    "    new_query_dict[(attribute, measure)] = query_view\n",
    "    \n",
    "    function_list = [\"avg\", \"max\", \"min\", \"sum\", \"count\"]\n",
    "    \n",
    "    for i in range(1, 6):\n",
    "        ref_measure = ref_view.iloc[:,i].as_matrix()\n",
    "        query_measure = query_view.iloc[:,i].as_matrix()\n",
    "        kl_divergence = entropy(ref_measure, query_measure)\n",
    "        utility_score[(attribute, measure, function_list[i-1])] = kl_divergence\n",
    "#         print(\"kl_divergence\", kl_divergence)\n",
    "    \n",
    "print(utility_score)\n",
    "\n",
    "# sorted_utility_score = sorted(utility_score.items(), key=operator.itemgetter(1), reverse=True)\n",
    "# print(sorted_utility_score)   \n",
    "# print(type(sorted_utility_score))\n",
    "    \n",
    "    \n",
    "    "
   ]
  },
  {
   "cell_type": "code",
   "execution_count": 5,
   "metadata": {},
   "outputs": [],
   "source": [
    "import pickle\n",
    "       \n",
    "with open('ref_data.pickle', 'wb') as handle:\n",
    "    pickle.dump(new_ref_dict, handle, protocol=pickle.HIGHEST_PROTOCOL)\n",
    "    \n",
    "with open('query_data.pickle', 'wb') as handle:\n",
    "    pickle.dump(new_query_dict, handle, protocol=pickle.HIGHEST_PROTOCOL)\n",
    "    \n",
    "with open('utility_score.pickle', 'wb') as handle:\n",
    "    pickle.dump(utility_score, handle, protocol=pickle.HIGHEST_PROTOCOL)"
   ]
  },
  {
   "cell_type": "code",
   "execution_count": 6,
   "metadata": {},
   "outputs": [],
   "source": [
    "\n",
    "    \n",
    "with open('ref_data.pickle', 'rb') as handle:\n",
    "    ref_data = pickle.load( handle)\n",
    "    \n",
    "with open('query_data.pickle', 'rb') as handle:\n",
    "    query_data = pickle.load(handle)\n",
    "    \n",
    "with open('utility_score.pickle', 'rb') as handle:\n",
    "    utility_score = pickle.load(handle)\n",
    "    \n",
    "    "
   ]
  },
  {
   "cell_type": "code",
   "execution_count": 7,
   "metadata": {},
   "outputs": [
    {
     "name": "stdout",
     "output_type": "stream",
     "text": [
      "{('age', 'age', 'avg'): 0.0, ('age', 'age', 'max'): 0.0, ('age', 'age', 'min'): 0.0, ('age', 'age', 'sum'): 0.20765029647544539, ('age', 'age', 'count'): 0.32782739381929366, ('age', 'years_of_education', 'avg'): 0.0076841173850884211, ('age', 'years_of_education', 'max'): 0.0071442173833017059, ('age', 'years_of_education', 'min'): 0.15115339140441469, ('age', 'years_of_education', 'sum'): 0.32305078402583531, ('age', 'years_of_education', 'count'): 0.32782739381929366, ('age', 'capital_gain', 'avg'): inf, ('age', 'capital_gain', 'max'): inf, ('age', 'capital_gain', 'min'): inf, ('age', 'capital_gain', 'sum'): inf, ('age', 'capital_gain', 'count'): 0.32782739381929366, ('age', 'capital_loss', 'avg'): inf, ('age', 'capital_loss', 'max'): inf, ('age', 'capital_loss', 'min'): inf, ('age', 'capital_loss', 'sum'): inf, ('age', 'capital_loss', 'count'): 0.32782739381929366, ('age', 'hours_per_week', 'avg'): 0.023898681071293143, ('age', 'hours_per_week', 'max'): 0.039777661795872554, ('age', 'hours_per_week', 'min'): 0.67820075486926457, ('age', 'hours_per_week', 'sum'): 0.27841903028308146, ('age', 'hours_per_week', 'count'): 0.32782739381929366, ('workclass', 'age', 'avg'): 0.020253452774370163, ('workclass', 'age', 'max'): 0.0028462904743041416, ('workclass', 'age', 'min'): 0.016447333989031573, ('workclass', 'age', 'sum'): 0.062575027941431202, ('workclass', 'age', 'count'): 0.069579478678354206, ('workclass', 'years_of_education', 'avg'): 0.0029159948933457237, ('workclass', 'years_of_education', 'max'): 0.0036748132388032852, ('workclass', 'years_of_education', 'min'): 0.13056824387949267, ('workclass', 'years_of_education', 'sum'): 0.068926710690458595, ('workclass', 'years_of_education', 'count'): 0.069579478678354206, ('workclass', 'capital_gain', 'avg'): 0.15131634889363962, ('workclass', 'capital_gain', 'max'): 0.17857530406021216, ('workclass', 'capital_gain', 'min'): inf, ('workclass', 'capital_gain', 'sum'): 0.083984536201895749, ('workclass', 'capital_gain', 'count'): 0.069579478678354206, ('workclass', 'capital_loss', 'avg'): 0.046836240739613594, ('workclass', 'capital_loss', 'max'): 0.020440710833097901, ('workclass', 'capital_loss', 'min'): inf, ('workclass', 'capital_loss', 'sum'): 0.12375742936484704, ('workclass', 'capital_loss', 'count'): 0.069579478678354206, ('workclass', 'hours_per_week', 'avg'): 0.0065972700057630451, ('workclass', 'hours_per_week', 'max'): 0.0082461646742210473, ('workclass', 'hours_per_week', 'min'): 0.66009195583000357, ('workclass', 'hours_per_week', 'sum'): 0.07049591472759173, ('workclass', 'hours_per_week', 'count'): 0.069579478678354206, ('education', 'age', 'avg'): 0.0069083208928747558, ('education', 'age', 'max'): 0.0039658082695186959, ('education', 'age', 'min'): 0.003432167635295337, ('education', 'age', 'sum'): 0.036673920557355189, ('education', 'age', 'count'): 0.05311646742822726, ('education', 'years_of_education', 'avg'): 0.0, ('education', 'years_of_education', 'max'): 0.0, ('education', 'years_of_education', 'min'): 0.0, ('education', 'years_of_education', 'sum'): 0.059104317705765609, ('education', 'years_of_education', 'count'): 0.05311646742822726, ('education', 'capital_gain', 'avg'): inf, ('education', 'capital_gain', 'max'): inf, ('education', 'capital_gain', 'min'): inf, ('education', 'capital_gain', 'sum'): inf, ('education', 'capital_gain', 'count'): 0.05311646742822726, ('education', 'capital_loss', 'avg'): inf, ('education', 'capital_loss', 'max'): inf, ('education', 'capital_loss', 'min'): inf, ('education', 'capital_loss', 'sum'): inf, ('education', 'capital_loss', 'count'): 0.05311646742822726, ('education', 'hours_per_week', 'avg'): 0.0034229977593159041, ('education', 'hours_per_week', 'max'): 0.0056134028499475203, ('education', 'hours_per_week', 'min'): 0.24279265292648083, ('education', 'hours_per_week', 'sum'): 0.03891105770949603, ('education', 'hours_per_week', 'count'): 0.05311646742822726, ('years_of_education', 'age', 'avg'): 0.0069083208928747593, ('years_of_education', 'age', 'max'): 0.0039658082695186968, ('years_of_education', 'age', 'min'): 0.003432167635295337, ('years_of_education', 'age', 'sum'): 0.036673920557355189, ('years_of_education', 'age', 'count'): 0.053116467428227274, ('years_of_education', 'years_of_education', 'avg'): 0.0, ('years_of_education', 'years_of_education', 'max'): 0.0, ('years_of_education', 'years_of_education', 'min'): 0.0, ('years_of_education', 'years_of_education', 'sum'): 0.059104317705765616, ('years_of_education', 'years_of_education', 'count'): 0.053116467428227274, ('years_of_education', 'capital_gain', 'avg'): inf, ('years_of_education', 'capital_gain', 'max'): inf, ('years_of_education', 'capital_gain', 'min'): inf, ('years_of_education', 'capital_gain', 'sum'): inf, ('years_of_education', 'capital_gain', 'count'): 0.053116467428227274, ('years_of_education', 'capital_loss', 'avg'): inf, ('years_of_education', 'capital_loss', 'max'): inf, ('years_of_education', 'capital_loss', 'min'): inf, ('years_of_education', 'capital_loss', 'sum'): inf, ('years_of_education', 'capital_loss', 'count'): 0.053116467428227274, ('years_of_education', 'hours_per_week', 'avg'): 0.0034229977593159041, ('years_of_education', 'hours_per_week', 'max'): 0.0056134028499475212, ('years_of_education', 'hours_per_week', 'min'): 0.24279265292648083, ('years_of_education', 'hours_per_week', 'sum'): 0.03891105770949603, ('years_of_education', 'hours_per_week', 'count'): 0.053116467428227274, ('marital_status', 'age', 'avg'): 0.0, ('marital_status', 'age', 'max'): 0.0, ('marital_status', 'age', 'min'): 0.0, ('marital_status', 'age', 'sum'): 0.0, ('marital_status', 'age', 'count'): 0.0, ('marital_status', 'years_of_education', 'avg'): 0.0, ('marital_status', 'years_of_education', 'max'): 0.0, ('marital_status', 'years_of_education', 'min'): 0.0, ('marital_status', 'years_of_education', 'sum'): 0.0, ('marital_status', 'years_of_education', 'count'): 0.0, ('marital_status', 'capital_gain', 'avg'): 0.0, ('marital_status', 'capital_gain', 'max'): 0.0, ('marital_status', 'capital_gain', 'min'): 0.0, ('marital_status', 'capital_gain', 'sum'): 0.0, ('marital_status', 'capital_gain', 'count'): 0.0, ('marital_status', 'capital_loss', 'avg'): 0.0, ('marital_status', 'capital_loss', 'max'): 0.0, ('marital_status', 'capital_loss', 'min'): 0.0, ('marital_status', 'capital_loss', 'sum'): 0.0, ('marital_status', 'capital_loss', 'count'): 0.0, ('marital_status', 'hours_per_week', 'avg'): 0.0, ('marital_status', 'hours_per_week', 'max'): 0.0, ('marital_status', 'hours_per_week', 'min'): 0.0, ('marital_status', 'hours_per_week', 'sum'): 0.0, ('marital_status', 'hours_per_week', 'count'): 0.0, ('occupation', 'age', 'avg'): 0.0046845772701809112, ('occupation', 'age', 'max'): 0.003186758359339497, ('occupation', 'age', 'min'): 0.003442956705924352, ('occupation', 'age', 'sum'): 0.15035023868598438, ('occupation', 'age', 'count'): 0.16265467096323477, ('occupation', 'years_of_education', 'avg'): 0.00078544846297639377, ('occupation', 'years_of_education', 'max'): 0.0013868754344326072, ('occupation', 'years_of_education', 'min'): 0.060832930092515808, ('occupation', 'years_of_education', 'sum'): 0.15220604823212505, ('occupation', 'years_of_education', 'count'): 0.16265467096323477, ('occupation', 'capital_gain', 'avg'): 0.088522512752571378, ('occupation', 'capital_gain', 'max'): 0.40872984657202183, ('occupation', 'capital_gain', 'min'): inf, ('occupation', 'capital_gain', 'sum'): 0.086628952047981503, ('occupation', 'capital_gain', 'count'): 0.16265467096323477, ('occupation', 'capital_loss', 'avg'): inf, ('occupation', 'capital_loss', 'max'): inf, ('occupation', 'capital_loss', 'min'): inf, ('occupation', 'capital_loss', 'sum'): inf, ('occupation', 'capital_loss', 'count'): 0.16265467096323477, ('occupation', 'hours_per_week', 'avg'): 0.0016817788423663686, ('occupation', 'hours_per_week', 'max'): 0.0059703166624117624, ('occupation', 'hours_per_week', 'min'): 0.56510619942008666, ('occupation', 'hours_per_week', 'sum'): 0.14867482271796939, ('occupation', 'hours_per_week', 'count'): 0.16265467096323477, ('relationship', 'age', 'avg'): 0.0016658973588904759, ('relationship', 'age', 'max'): 0.015803115129093322, ('relationship', 'age', 'min'): 0.0010403953059018346, ('relationship', 'age', 'sum'): 0.21377634408126461, ('relationship', 'age', 'count'): 0.22083265182790768, ('relationship', 'years_of_education', 'avg'): 0.0010781729403980776, ('relationship', 'years_of_education', 'max'): 0.0034153618178920722, ('relationship', 'years_of_education', 'min'): 0.054115320909768422, ('relationship', 'years_of_education', 'sum'): 0.21511192242759097, ('relationship', 'years_of_education', 'count'): 0.22083265182790768, ('relationship', 'capital_gain', 'avg'): 0.12309930346334599, ('relationship', 'capital_gain', 'max'): 0.38390298198696438, ('relationship', 'capital_gain', 'min'): inf, ('relationship', 'capital_gain', 'sum'): 0.35325007401249681, ('relationship', 'capital_gain', 'count'): 0.22083265182790768, ('relationship', 'capital_loss', 'avg'): 0.071195838346433213, ('relationship', 'capital_loss', 'max'): 0.00090006879239552286, ('relationship', 'capital_loss', 'min'): inf, ('relationship', 'capital_loss', 'sum'): 0.1481128786125232, ('relationship', 'capital_loss', 'count'): 0.22083265182790768, ('relationship', 'hours_per_week', 'avg'): 0.0014012034624540856, ('relationship', 'hours_per_week', 'max'): 0.0095428794979891957, ('relationship', 'hours_per_week', 'min'): 0.15294303817108448, ('relationship', 'hours_per_week', 'sum'): 0.22584843211521163, ('relationship', 'hours_per_week', 'count'): 0.22083265182790768, ('race', 'age', 'avg'): 0.0011544970071232074, ('race', 'age', 'max'): 0.0012649144740034353, ('race', 'age', 'min'): 0.00095738216303547716, ('race', 'age', 'sum'): 0.033348012612454681, ('race', 'age', 'count'): 0.028726418905131321, ('race', 'years_of_education', 'avg'): 0.0012386568778321519, ('race', 'years_of_education', 'max'): 0.00032892202065413351, ('race', 'years_of_education', 'min'): 0.0, ('race', 'years_of_education', 'sum'): 0.028202488925661393, ('race', 'years_of_education', 'count'): 0.028726418905131321, ('race', 'capital_gain', 'avg'): 0.59028085057401247, ('race', 'capital_gain', 'max'): 0.52384821905390622, ('race', 'capital_gain', 'min'): inf, ('race', 'capital_gain', 'sum'): 0.053195940819523779, ('race', 'capital_gain', 'count'): 0.028726418905131321, ('race', 'capital_loss', 'avg'): 0.017378633407520338, ('race', 'capital_loss', 'max'): 0.062983965090060379, ('race', 'capital_loss', 'min'): inf, ('race', 'capital_loss', 'sum'): 0.035277665804461129, ('race', 'capital_loss', 'count'): 0.028726418905131321, ('race', 'hours_per_week', 'avg'): 0.00043272299094064808, ('race', 'hours_per_week', 'max'): 0.011383804348507335, ('race', 'hours_per_week', 'min'): 0.34278104316019575, ('race', 'hours_per_week', 'sum'): 0.03055733314764255, ('race', 'hours_per_week', 'count'): 0.028726418905131321, ('sex', 'age', 'avg'): 0.0057961012496934375, ('sex', 'age', 'max'): 0.0, ('sex', 'age', 'min'): 0.0, ('sex', 'age', 'sum'): 0.42068292989514855, ('sex', 'age', 'count'): 0.35216320448249649, ('sex', 'years_of_education', 'avg'): 0.0, ('sex', 'years_of_education', 'max'): 0.0, ('sex', 'years_of_education', 'min'): 0.0, ('sex', 'years_of_education', 'sum'): 0.35922349050546198, ('sex', 'years_of_education', 'count'): 0.35216320448249649, ('sex', 'capital_gain', 'avg'): 0.0093592035383893019, ('sex', 'capital_gain', 'max'): 0.0, ('sex', 'capital_gain', 'min'): inf, ('sex', 'capital_gain', 'sum'): 0.22577741552986549, ('sex', 'capital_gain', 'count'): 0.35216320448249649, ('sex', 'capital_loss', 'avg'): 0.00079728948484704062, ('sex', 'capital_loss', 'max'): 0.0048049082347901423, ('sex', 'capital_loss', 'min'): inf, ('sex', 'capital_loss', 'sum'): 0.29808304494480392, ('sex', 'capital_loss', 'count'): 0.35216320448249649, ('sex', 'hours_per_week', 'avg'): 0.0018068721461669962, ('sex', 'hours_per_week', 'max'): 0.0, ('sex', 'hours_per_week', 'min'): 0.0, ('sex', 'hours_per_week', 'sum'): 0.35518585519564527, ('sex', 'hours_per_week', 'count'): 0.35216320448249649, ('hours_per_week', 'age', 'avg'): 0.028571311307459712, ('hours_per_week', 'age', 'max'): 0.021611568397507028, ('hours_per_week', 'age', 'min'): 0.063223464326632894, ('hours_per_week', 'age', 'sum'): 0.093123115452707239, ('hours_per_week', 'age', 'count'): 0.12858555970526042, ('hours_per_week', 'years_of_education', 'avg'): 0.0164093858125209, ('hours_per_week', 'years_of_education', 'max'): 0.011240949645032475, ('hours_per_week', 'years_of_education', 'min'): 0.19358192436878516, ('hours_per_week', 'years_of_education', 'sum'): 0.12342347430119296, ('hours_per_week', 'years_of_education', 'count'): 0.12858555970526042, ('hours_per_week', 'capital_gain', 'avg'): inf, ('hours_per_week', 'capital_gain', 'max'): inf, ('hours_per_week', 'capital_gain', 'min'): inf, ('hours_per_week', 'capital_gain', 'sum'): inf, ('hours_per_week', 'capital_gain', 'count'): 0.12858555970526042, ('hours_per_week', 'capital_loss', 'avg'): inf, ('hours_per_week', 'capital_loss', 'max'): inf, ('hours_per_week', 'capital_loss', 'min'): inf, ('hours_per_week', 'capital_loss', 'sum'): inf, ('hours_per_week', 'capital_loss', 'count'): 0.12858555970526042, ('hours_per_week', 'hours_per_week', 'avg'): 0.0, ('hours_per_week', 'hours_per_week', 'max'): 0.0, ('hours_per_week', 'hours_per_week', 'min'): 0.0, ('hours_per_week', 'hours_per_week', 'sum'): 0.10794814025771673, ('hours_per_week', 'hours_per_week', 'count'): 0.12858555970526042, ('native_country', 'age', 'avg'): 0.0077264131487644631, ('native_country', 'age', 'max'): 0.022696402059461988, ('native_country', 'age', 'min'): 0.0094270335260494779, ('native_country', 'age', 'sum'): 0.01170432389530118, ('native_country', 'age', 'count'): 0.010702666519270437, ('native_country', 'years_of_education', 'avg'): 0.009827422103895412, ('native_country', 'years_of_education', 'max'): 0.007845516415448929, ('native_country', 'years_of_education', 'min'): 0.22166612028217447, ('native_country', 'years_of_education', 'sum'): 0.010176107340470232, ('native_country', 'years_of_education', 'count'): 0.010702666519270437, ('native_country', 'capital_gain', 'avg'): inf, ('native_country', 'capital_gain', 'max'): inf, ('native_country', 'capital_gain', 'min'): inf, ('native_country', 'capital_gain', 'sum'): inf, ('native_country', 'capital_gain', 'count'): 0.010702666519270437, ('native_country', 'capital_loss', 'avg'): inf, ('native_country', 'capital_loss', 'max'): inf, ('native_country', 'capital_loss', 'min'): inf, ('native_country', 'capital_loss', 'sum'): inf, ('native_country', 'capital_loss', 'count'): 0.010702666519270437, ('native_country', 'hours_per_week', 'avg'): 0.005870983632948119, ('native_country', 'hours_per_week', 'max'): 0.027598981462134395, ('native_country', 'hours_per_week', 'min'): 0.25386428371224956, ('native_country', 'hours_per_week', 'sum'): 0.010915336962740375, ('native_country', 'hours_per_week', 'count'): 0.010702666519270437, ('salary_bracket', 'age', 'avg'): 0.0059249415699866026, ('salary_bracket', 'age', 'max'): 0.0, ('salary_bracket', 'age', 'min'): 0.0, ('salary_bracket', 'age', 'sum'): 0.49039933839526367, ('salary_bracket', 'age', 'count'): 0.55027343953768404, ('salary_bracket', 'years_of_education', 'avg'): 0.00093390682513572881, ('salary_bracket', 'years_of_education', 'max'): 0.0, ('salary_bracket', 'years_of_education', 'min'): 0.017372000379671279, ('salary_bracket', 'years_of_education', 'sum'): 0.59114946926181211, ('salary_bracket', 'years_of_education', 'count'): 0.55027343953768404, ('salary_bracket', 'capital_gain', 'avg'): 0.023550117741814473, ('salary_bracket', 'capital_gain', 'max'): 0.0037074838017701062, ('salary_bracket', 'capital_gain', 'min'): inf, ('salary_bracket', 'capital_gain', 'sum'): 0.081113770520302067, ('salary_bracket', 'capital_gain', 'count'): 0.55027343953768404, ('salary_bracket', 'capital_loss', 'avg'): 0.00022560813997104384, ('salary_bracket', 'capital_loss', 'max'): 0.0016837455771574229, ('salary_bracket', 'capital_loss', 'min'): inf, ('salary_bracket', 'capital_loss', 'sum'): 0.64485082345489531, ('salary_bracket', 'capital_loss', 'count'): 0.55027343953768404, ('salary_bracket', 'hours_per_week', 'avg'): 0.00193249193981734, ('salary_bracket', 'hours_per_week', 'max'): 0.0, ('salary_bracket', 'hours_per_week', 'min'): 0.058891517828191742, ('salary_bracket', 'hours_per_week', 'sum'): 0.51824731114779743, ('salary_bracket', 'hours_per_week', 'count'): 0.55027343953768404}\n"
     ]
    }
   ],
   "source": [
    "print(utility_score)"
   ]
  },
  {
   "cell_type": "code",
   "execution_count": 19,
   "metadata": {},
   "outputs": [
    {
     "name": "stdout",
     "output_type": "stream",
     "text": [
      "C:\\Users\\Abhinav Shaw\\Anaconda3\\python.exe\n",
      "3.6.4 |Anaconda, Inc.| (default, Jan 16 2018, 10:22:32) [MSC v.1900 64 bit (AMD64)]\n",
      "sys.version_info(major=3, minor=6, micro=4, releaselevel='final', serial=0)\n"
     ]
    }
   ],
   "source": [
    "# display(ref_data[('age', 'age')])\n",
    "import sys\n",
    "print(sys.executable)\n",
    "print(sys.version)\n",
    "print(sys.version_info)"
   ]
  }
 ],
 "metadata": {
  "kernelspec": {
   "display_name": "Python 3",
   "language": "python",
   "name": "python3"
  },
  "language_info": {
   "codemirror_mode": {
    "name": "ipython",
    "version": 3
   },
   "file_extension": ".py",
   "mimetype": "text/x-python",
   "name": "python",
   "nbconvert_exporter": "python",
   "pygments_lexer": "ipython3",
   "version": "3.6.4"
  }
 },
 "nbformat": 4,
 "nbformat_minor": 2
}
